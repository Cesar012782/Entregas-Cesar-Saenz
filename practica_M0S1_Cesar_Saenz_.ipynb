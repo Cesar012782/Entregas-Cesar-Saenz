{
  "nbformat": 4,
  "nbformat_minor": 0,
  "metadata": {
    "colab": {
      "private_outputs": true,
      "provenance": [],
      "authorship_tag": "ABX9TyNEjOIiqJgEDG8JSuF3J5rY",
      "include_colab_link": true
    },
    "kernelspec": {
      "name": "python3",
      "display_name": "Python 3"
    },
    "language_info": {
      "name": "python"
    }
  },
  "cells": [
    {
      "cell_type": "markdown",
      "metadata": {
        "id": "view-in-github",
        "colab_type": "text"
      },
      "source": [
        "<a href=\"https://colab.research.google.com/github/Cesar012782/Entregas-Cesar-Saenz/blob/master/practica_M0S1_Cesar_Saenz_.ipynb\" target=\"_parent\"><img src=\"https://colab.research.google.com/assets/colab-badge.svg\" alt=\"Open In Colab\"/></a>"
      ]
    },
    {
      "cell_type": "markdown",
      "source": [
        "**Este colab es creado desde Cero**\n",
        "\n",
        "Instrucciones: Cargar los datos de las siguientes maneras\n",
        "- Desde github o  URL\n",
        "- Desde máquina local\n",
        "\n",
        "Recursos:\n",
        "\n",
        "- [Datasets de Kaggle](https://www.kaggle.com/datasets/reihanenamdari/breast-cancer)\n",
        "\n",
        "---\n",
        "Hecho con 💗 por cesarsaenz13@hotmail.com"
      ],
      "metadata": {
        "id": "_eHzf3ep-bTi"
      }
    },
    {
      "cell_type": "code",
      "source": [
        "# Desde URL (Github)\n",
        "import pandas as pd\n",
        "df_breast_cancer = pd.read_csv('https://raw.githubusercontent.com/Cesar012782/Entregas-Cesar-Saenz/master/Breast_Cancer.csv')\n",
        "df_breast_cancer.head(5)"
      ],
      "metadata": {
        "id": "LSb4t9VO-oKT"
      },
      "execution_count": null,
      "outputs": []
    }
  ]
}