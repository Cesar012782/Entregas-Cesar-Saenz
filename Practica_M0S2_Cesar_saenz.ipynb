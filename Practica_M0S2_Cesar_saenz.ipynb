{
  "nbformat": 4,
  "nbformat_minor": 0,
  "metadata": {
    "colab": {
      "private_outputs": true,
      "provenance": [],
      "authorship_tag": "ABX9TyPW3tGX9v5iz+z/rXqgUnCg",
      "include_colab_link": true
    },
    "kernelspec": {
      "name": "python3",
      "display_name": "Python 3"
    },
    "language_info": {
      "name": "python"
    }
  },
  "cells": [
    {
      "cell_type": "markdown",
      "metadata": {
        "id": "view-in-github",
        "colab_type": "text"
      },
      "source": [
        "<a href=\"https://colab.research.google.com/github/Cesar012782/Entregas-Cesar-Saenz/blob/master/Practica_M0S2_Cesar_saenz.ipynb\" target=\"_parent\"><img src=\"https://colab.research.google.com/assets/colab-badge.svg\" alt=\"Open In Colab\"/></a>"
      ]
    },
    {
      "cell_type": "code",
      "source": [
        "import sqlite3\n",
        "conn = sqlite3.connect('example.db')\n",
        "print(\"Conexión Estable ..........\")"
      ],
      "metadata": {
        "id": "9TXq_EC9PDyI"
      },
      "execution_count": null,
      "outputs": []
    },
    {
      "cell_type": "code",
      "source": [
        "cursor = conn.cursor()\n",
        "cursor.execute(\"DROP TABLE IF EXISTS EMPLEADOS\")"
      ],
      "metadata": {
        "id": "CJXxNP4aMgOy"
      },
      "execution_count": null,
      "outputs": []
    },
    {
      "cell_type": "code",
      "source": [
        "TABLA_EMPLEADOS ='''CREATE TABLE EMPLEADOS(\n",
        "                    ID_EMPLEADOS PRIMARY KEY INT NOT NULL,\n",
        "                    NOMBRE CHAR(30) NOT NULL,\n",
        "                    APELLIDO1 CHAR(20) NOT NULL,\n",
        "                    APELLIDO2 CHAR(20),\n",
        "                    EMAIL CHAR(20),\n",
        "                    DIRECCION CHAR(40),\n",
        "                    EDAD INT,\n",
        "                    GENERO CHAR(),\n",
        "                    SUELDO FLOAT)'''\n",
        "cursor.execute(TABLA_EMPLEADOS)\n",
        "print(\"TABLA CREADA EXITOSAMENTE........\")\n",
        "#except sqlite3.OperationalError as error:\n",
        "  #print(\"Error al abrir: \", error)\n",
        "conn.commit()\n",
        "#"
      ],
      "metadata": {
        "id": "iuLEpdI9M0_N"
      },
      "execution_count": null,
      "outputs": []
    },
    {
      "cell_type": "code",
      "source": [
        "sql_instruction = ''' INSERT INTO EMPLEADOS\n",
        "    (NOMBRE, APELLIDO1, APELLIDO2, EMAIL, DIRECCION, EDAD, GENERO, SUELDO) values\n",
        "    ('Cesar', 'Augusto', 'Saenz', 'Jimenez', 'cesarsaenz13@hotmail.com', 'Cra 45A # 80 Sur 127' ,'M', '38000'),\n",
        "    ('Maria', 'Helena', 'Bustamante', 'Gonzalez', 'cesarsaenz13@hotmail.com', 'Cra 83 # 43 Norte 1' ,'F', '30000'),\n",
        "    ('Jesus', 'Miguel', 'Rhenals', 'Aragon', 'cesarsaenz13@hotmail.com', 'Cra 123B # 25 Este 33' ,'M', '39000')'''\n",
        "cursor.execute(TABLA_EMPLEADOS)\n",
        "print(\"DATOS INGRESADOS CORRECTAMENTE........\")\n",
        "conn.commit()\n"
      ],
      "metadata": {
        "id": "MkcbDIouTBXe"
      },
      "execution_count": null,
      "outputs": []
    },
    {
      "cell_type": "code",
      "source": [
        "sql_instruction = \"SELECT * FROM EMPLEADOS\" # * => TODOS LOS REGISTROS DE TODAS LAS COLUMNAS\n",
        "cursor.execute(TABLA_EMPLEADOS)\n",
        "\n",
        "result = cursor.fetchall();\n",
        "print(result)"
      ],
      "metadata": {
        "id": "W2ScTcM4clYL"
      },
      "execution_count": null,
      "outputs": []
    }
  ]
}