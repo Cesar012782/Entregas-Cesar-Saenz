{
  "nbformat": 4,
  "nbformat_minor": 0,
  "metadata": {
    "colab": {
      "private_outputs": true,
      "provenance": [],
      "authorship_tag": "ABX9TyOdYfvVh96Hl4bq3rZXXyoW",
      "include_colab_link": true
    },
    "kernelspec": {
      "name": "python3",
      "display_name": "Python 3"
    },
    "language_info": {
      "name": "python"
    }
  },
  "cells": [
    {
      "cell_type": "markdown",
      "metadata": {
        "id": "view-in-github",
        "colab_type": "text"
      },
      "source": [
        "<a href=\"https://colab.research.google.com/github/Cesar012782/Entregas-Cesar-Saenz/blob/master/Practica_M0S2_Cesar_saenz.ipynb\" target=\"_parent\"><img src=\"https://colab.research.google.com/assets/colab-badge.svg\" alt=\"Open In Colab\"/></a>"
      ]
    },
    {
      "cell_type": "markdown",
      "source": [
        "# Nueva sección"
      ],
      "metadata": {
        "id": "anuxt6YUk5rc"
      }
    },
    {
      "cell_type": "code",
      "source": [
        "import sqlite3\n",
        "conn = sqlite3.connect('PracticaM0S2.db')\n",
        "print(\"Conexión Estable ..........\")\n",
        "cursor = conn.cursor()\n",
        "cursor.execute(\"DROP TABLE IF EXISTS EMPLEADOS\")"
      ],
      "metadata": {
        "id": "aY7QgoJQlVOK"
      },
      "execution_count": null,
      "outputs": []
    },
    {
      "cell_type": "code",
      "source": [
        "try:\n",
        "  TABLA_EMPLEADOS =\"\"\"CREATE TABLE IF NOT EXISTS EMPLEADOS(\n",
        "                    ID_EMPLEADOS INT PRIMARY KEY NOT NULL,\n",
        "                    NOMBRE TEXT NOT NULL,\n",
        "                    APELLIDO1 TEXT NOT NULL,\n",
        "                    APELLIDO2 TEXT,\n",
        "                    EMAIL TEXT,\n",
        "                    DIRECCION TEXT,\n",
        "                    EDAD INT,\n",
        "                    GENERO CHAR(),\n",
        "                    SUELDO FLOAT)\"\"\"\n",
        "  print(\"TABLA CREADA EXITOSAMENTE.......'\\n'\")\n",
        "  cursor.execute(TABLA_EMPLEADOS)  \n",
        "  conn.commit()\n",
        "  conn.close()\n",
        "except sqlite3.OperationalError as error:\n",
        "  print(\"Error al abrir: \", error)\n",
        "  "
      ],
      "metadata": {
        "id": "9TXq_EC9PDyI"
      },
      "execution_count": null,
      "outputs": []
    },
    {
      "cell_type": "code",
      "source": [
        "try:\n",
        "  sql_instruction = ''' INSERT INTO EMPLEADOS\n",
        "      (NOMBRE, APELLIDO1, APELLIDO2, EMAIL, DIRECCION, EDAD, GENERO, SUELDO) values\n",
        "      ('Cesar', 'Augusto', 'Saenz', 'Jimenez', 'cesarsaenz13@hotmail.com', 'Cra 45A # 80 Sur 127' ,'M', '38000'),\n",
        "      ('Maria', 'Helena', 'Bustamante', 'Gonzalez', 'cesarsaenz13@hotmail.com', 'Cra 83 # 43 Norte 1' ,'F', '30000'),\n",
        "      ('Jesus', 'Miguel', 'Rhenals', 'Aragon', 'cesarsaenz13@hotmail.com', 'Cra 123B # 25 Este 33' ,'M', '39000')'''\n",
        "  #cursor.execute(TABLA_EMPLEADOS)\n",
        "  print(\"DATOS INGRESADOS CORRECTAMENTE........\")\n",
        "  conn.commit()\n",
        "except sqlite3.OperationalError as error:\n",
        "  print(\"Error al abrir: \", error)\n"
      ],
      "metadata": {
        "id": "MkcbDIouTBXe"
      },
      "execution_count": null,
      "outputs": []
    },
    {
      "cell_type": "code",
      "source": [
        "try:\n",
        "  sql_instruction = \"SELECT * FROM EMPLEADOS\" \n",
        "  cursor.execute(TABLA_EMPLEADOS)\n",
        "  result = cursor.fetchall();\n",
        "  print(result)\n",
        "except sqlite3.OperationalError as error:\n",
        "  print(\"Error al abrir: \", error)"
      ],
      "metadata": {
        "id": "W2ScTcM4clYL"
      },
      "execution_count": null,
      "outputs": []
    }
  ]
}